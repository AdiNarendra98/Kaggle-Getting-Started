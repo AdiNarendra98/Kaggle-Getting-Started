{
 "cells": [
  {
   "cell_type": "code",
   "execution_count": 1,
   "id": "36add18b",
   "metadata": {
    "_cell_guid": "b1076dfc-b9ad-4769-8c92-a6c4dae69d19",
    "_uuid": "8f2839f25d086af736a60e9eeb907d3b93b6e0e5",
    "execution": {
     "iopub.execute_input": "2022-05-20T09:29:29.316123Z",
     "iopub.status.busy": "2022-05-20T09:29:29.315643Z",
     "iopub.status.idle": "2022-05-20T09:29:29.332249Z",
     "shell.execute_reply": "2022-05-20T09:29:29.330530Z"
    },
    "papermill": {
     "duration": 0.047778,
     "end_time": "2022-05-20T09:29:29.335766",
     "exception": false,
     "start_time": "2022-05-20T09:29:29.287988",
     "status": "completed"
    },
    "tags": []
   },
   "outputs": [
    {
     "name": "stdout",
     "output_type": "stream",
     "text": [
      "/kaggle/input/digit-recognizer/sample_submission.csv\n",
      "/kaggle/input/digit-recognizer/train.csv\n",
      "/kaggle/input/digit-recognizer/test.csv\n"
     ]
    }
   ],
   "source": [
    "import numpy as np \n",
    "import pandas as pd \n",
    "\n",
    "\n",
    "\n",
    "import os\n",
    "for dirname, _, filenames in os.walk('/kaggle/input'):\n",
    "    for filename in filenames:\n",
    "        print(os.path.join(dirname, filename))\n",
    "\n"
   ]
  },
  {
   "cell_type": "markdown",
   "id": "1e7d22d0",
   "metadata": {
    "papermill": {
     "duration": 0.024902,
     "end_time": "2022-05-20T09:29:29.386748",
     "exception": false,
     "start_time": "2022-05-20T09:29:29.361846",
     "status": "completed"
    },
    "tags": []
   },
   "source": [
    "Importing Libraries"
   ]
  },
  {
   "cell_type": "code",
   "execution_count": 2,
   "id": "3a0a5994",
   "metadata": {
    "execution": {
     "iopub.execute_input": "2022-05-20T09:29:29.437832Z",
     "iopub.status.busy": "2022-05-20T09:29:29.437238Z",
     "iopub.status.idle": "2022-05-20T09:29:36.847134Z",
     "shell.execute_reply": "2022-05-20T09:29:36.846218Z"
    },
    "papermill": {
     "duration": 7.439084,
     "end_time": "2022-05-20T09:29:36.850249",
     "exception": false,
     "start_time": "2022-05-20T09:29:29.411165",
     "status": "completed"
    },
    "tags": []
   },
   "outputs": [],
   "source": [
    "import numpy as np\n",
    "import matplotlib.pyplot as plt\n",
    "import tensorflow as tf\n",
    "from tensorflow.keras import Sequential\n",
    "from tensorflow.keras.layers import Dense, Dropout,Flatten, Conv2D, MaxPool2D, Conv2D,BatchNormalization\n",
    "from keras.callbacks import ReduceLROnPlateau"
   ]
  },
  {
   "cell_type": "markdown",
   "id": "10805104",
   "metadata": {
    "papermill": {
     "duration": 0.024157,
     "end_time": "2022-05-20T09:29:36.899153",
     "exception": false,
     "start_time": "2022-05-20T09:29:36.874996",
     "status": "completed"
    },
    "tags": []
   },
   "source": [
    "Reading Train and Test CSV"
   ]
  },
  {
   "cell_type": "code",
   "execution_count": 3,
   "id": "698b70a0",
   "metadata": {
    "execution": {
     "iopub.execute_input": "2022-05-20T09:29:36.951591Z",
     "iopub.status.busy": "2022-05-20T09:29:36.951258Z",
     "iopub.status.idle": "2022-05-20T09:29:42.844355Z",
     "shell.execute_reply": "2022-05-20T09:29:42.843702Z"
    },
    "papermill": {
     "duration": 5.922233,
     "end_time": "2022-05-20T09:29:42.846679",
     "exception": false,
     "start_time": "2022-05-20T09:29:36.924446",
     "status": "completed"
    },
    "tags": []
   },
   "outputs": [],
   "source": [
    "X_train = pd.read_csv('/kaggle/input/digit-recognizer/train.csv')\n",
    "X_test = pd.read_csv('/kaggle/input/digit-recognizer/test.csv')\n",
    "\n",
    "y_train = X_train.pop('label')"
   ]
  },
  {
   "cell_type": "code",
   "execution_count": 4,
   "id": "04c39768",
   "metadata": {
    "execution": {
     "iopub.execute_input": "2022-05-20T09:29:42.897579Z",
     "iopub.status.busy": "2022-05-20T09:29:42.896807Z",
     "iopub.status.idle": "2022-05-20T09:29:42.902189Z",
     "shell.execute_reply": "2022-05-20T09:29:42.901212Z"
    },
    "papermill": {
     "duration": 0.03378,
     "end_time": "2022-05-20T09:29:42.905203",
     "exception": false,
     "start_time": "2022-05-20T09:29:42.871423",
     "status": "completed"
    },
    "tags": []
   },
   "outputs": [
    {
     "name": "stdout",
     "output_type": "stream",
     "text": [
      "(42000, 784)\n",
      "(42000,)\n"
     ]
    }
   ],
   "source": [
    "print(X_train.shape)\n",
    "print(y_train.shape)"
   ]
  },
  {
   "cell_type": "code",
   "execution_count": 5,
   "id": "83e2b234",
   "metadata": {
    "execution": {
     "iopub.execute_input": "2022-05-20T09:29:42.960191Z",
     "iopub.status.busy": "2022-05-20T09:29:42.959901Z",
     "iopub.status.idle": "2022-05-20T09:29:43.367647Z",
     "shell.execute_reply": "2022-05-20T09:29:43.366460Z"
    },
    "papermill": {
     "duration": 0.438313,
     "end_time": "2022-05-20T09:29:43.370339",
     "exception": false,
     "start_time": "2022-05-20T09:29:42.932026",
     "status": "completed"
    },
    "tags": []
   },
   "outputs": [],
   "source": [
    "X_train = np.array(X_train)\n",
    "y_train = np.array(y_train)\n",
    "X_test = np.array(X_test)"
   ]
  },
  {
   "cell_type": "code",
   "execution_count": 6,
   "id": "f96fc96f",
   "metadata": {
    "execution": {
     "iopub.execute_input": "2022-05-20T09:29:43.422134Z",
     "iopub.status.busy": "2022-05-20T09:29:43.421521Z",
     "iopub.status.idle": "2022-05-20T09:29:43.427303Z",
     "shell.execute_reply": "2022-05-20T09:29:43.426471Z"
    },
    "papermill": {
     "duration": 0.033992,
     "end_time": "2022-05-20T09:29:43.429671",
     "exception": false,
     "start_time": "2022-05-20T09:29:43.395679",
     "status": "completed"
    },
    "tags": []
   },
   "outputs": [],
   "source": [
    "img_rows,img_cols=28,28\n",
    "input_shape = (img_rows,img_cols,1)\n",
    "batch_size=128\n",
    "num_classes =10\n",
    "epochs = 20"
   ]
  },
  {
   "cell_type": "markdown",
   "id": "2d7cfe4a",
   "metadata": {
    "papermill": {
     "duration": 0.02535,
     "end_time": "2022-05-20T09:29:43.482863",
     "exception": false,
     "start_time": "2022-05-20T09:29:43.457513",
     "status": "completed"
    },
    "tags": []
   },
   "source": [
    "Reshaping to Single Channel"
   ]
  },
  {
   "cell_type": "code",
   "execution_count": 7,
   "id": "b15e8733",
   "metadata": {
    "execution": {
     "iopub.execute_input": "2022-05-20T09:29:43.534445Z",
     "iopub.status.busy": "2022-05-20T09:29:43.534114Z",
     "iopub.status.idle": "2022-05-20T09:29:43.538988Z",
     "shell.execute_reply": "2022-05-20T09:29:43.538080Z"
    },
    "papermill": {
     "duration": 0.033329,
     "end_time": "2022-05-20T09:29:43.541069",
     "exception": false,
     "start_time": "2022-05-20T09:29:43.507740",
     "status": "completed"
    },
    "tags": []
   },
   "outputs": [],
   "source": [
    "X_train = X_train.reshape(X_train.shape[0], img_rows, img_cols, 1)\n",
    "X_test = X_test.reshape(X_test.shape[0], img_rows, img_cols, 1)"
   ]
  },
  {
   "cell_type": "code",
   "execution_count": 8,
   "id": "a9565b11",
   "metadata": {
    "execution": {
     "iopub.execute_input": "2022-05-20T09:29:43.592433Z",
     "iopub.status.busy": "2022-05-20T09:29:43.592110Z",
     "iopub.status.idle": "2022-05-20T09:29:43.835137Z",
     "shell.execute_reply": "2022-05-20T09:29:43.834065Z"
    },
    "papermill": {
     "duration": 0.271953,
     "end_time": "2022-05-20T09:29:43.837695",
     "exception": false,
     "start_time": "2022-05-20T09:29:43.565742",
     "status": "completed"
    },
    "tags": []
   },
   "outputs": [
    {
     "data": {
      "text/plain": [
       "<matplotlib.image.AxesImage at 0x7f7987bcfb50>"
      ]
     },
     "execution_count": 8,
     "metadata": {},
     "output_type": "execute_result"
    },
    {
     "data": {
      "image/png": "[encoded data removed]",
      "text/plain": [
       "<Figure size 432x288 with 1 Axes>"
      ]
     },
     "metadata": {
      "needs_background": "light"
     },
     "output_type": "display_data"
    }
   ],
   "source": [
    "index  = 10\n",
    "k = X_train[index,:]\n",
    "k = k.reshape((28, 28))\n",
    "plt.imshow(k, cmap='gray')"
   ]
  },
  {
   "cell_type": "code",
   "execution_count": 9,
   "id": "a72791cc",
   "metadata": {
    "execution": {
     "iopub.execute_input": "2022-05-20T09:29:43.892498Z",
     "iopub.status.busy": "2022-05-20T09:29:43.891636Z",
     "iopub.status.idle": "2022-05-20T09:29:44.953008Z",
     "shell.execute_reply": "2022-05-20T09:29:44.951821Z"
    },
    "papermill": {
     "duration": 1.091587,
     "end_time": "2022-05-20T09:29:44.955374",
     "exception": false,
     "start_time": "2022-05-20T09:29:43.863787",
     "status": "completed"
    },
    "tags": []
   },
   "outputs": [
    {
     "data": {
      "image/png": "[encoded data removed]",
      "text/plain": [
       "<Figure size 720x720 with 9 Axes>"
      ]
     },
     "metadata": {
      "needs_background": "light"
     },
     "output_type": "display_data"
    }
   ],
   "source": [
    "fig, axis=plt.subplots(3, 3, figsize=(10, 10))\n",
    "y_train1 = y_train.reshape(1, len(y_train))\n",
    "for index, ax in enumerate(axis.flat):\n",
    "        ax.imshow(X_train[index],cmap=plt.cm.binary)\n",
    "        ax.set(title = f\"Number is {y_train1[0,index]}\")"
   ]
  },
  {
   "cell_type": "markdown",
   "id": "ad45a8f2",
   "metadata": {
    "papermill": {
     "duration": 0.026855,
     "end_time": "2022-05-20T09:29:45.009830",
     "exception": false,
     "start_time": "2022-05-20T09:29:44.982975",
     "status": "completed"
    },
    "tags": []
   },
   "source": [
    "Comverting Class Labels to One Hot Encoded Vectors"
   ]
  },
  {
   "cell_type": "code",
   "execution_count": 10,
   "id": "9f1b3da6",
   "metadata": {
    "execution": {
     "iopub.execute_input": "2022-05-20T09:29:45.068800Z",
     "iopub.status.busy": "2022-05-20T09:29:45.068150Z",
     "iopub.status.idle": "2022-05-20T09:29:45.075841Z",
     "shell.execute_reply": "2022-05-20T09:29:45.074121Z"
    },
    "papermill": {
     "duration": 0.040158,
     "end_time": "2022-05-20T09:29:45.078815",
     "exception": false,
     "start_time": "2022-05-20T09:29:45.038657",
     "status": "completed"
    },
    "tags": []
   },
   "outputs": [
    {
     "name": "stdout",
     "output_type": "stream",
     "text": [
      "(42000, 10)\n"
     ]
    }
   ],
   "source": [
    "# convert class labels (from digits) to one-hot encoded vectors\n",
    "y_train = tf.keras.utils.to_categorical(y_train, num_classes)\n",
    "print(y_train.shape)"
   ]
  },
  {
   "cell_type": "code",
   "execution_count": 11,
   "id": "549c5034",
   "metadata": {
    "execution": {
     "iopub.execute_input": "2022-05-20T09:29:45.136067Z",
     "iopub.status.busy": "2022-05-20T09:29:45.135628Z",
     "iopub.status.idle": "2022-05-20T09:29:45.141629Z",
     "shell.execute_reply": "2022-05-20T09:29:45.140872Z"
    },
    "papermill": {
     "duration": 0.036786,
     "end_time": "2022-05-20T09:29:45.143494",
     "exception": false,
     "start_time": "2022-05-20T09:29:45.106708",
     "status": "completed"
    },
    "tags": []
   },
   "outputs": [
    {
     "data": {
      "text/plain": [
       "dtype('int64')"
      ]
     },
     "execution_count": 11,
     "metadata": {},
     "output_type": "execute_result"
    }
   ],
   "source": [
    "X_train.dtype"
   ]
  },
  {
   "cell_type": "code",
   "execution_count": 12,
   "id": "59f2853e",
   "metadata": {
    "execution": {
     "iopub.execute_input": "2022-05-20T09:29:45.200372Z",
     "iopub.status.busy": "2022-05-20T09:29:45.200042Z",
     "iopub.status.idle": "2022-05-20T09:29:45.315074Z",
     "shell.execute_reply": "2022-05-20T09:29:45.314386Z"
    },
    "papermill": {
     "duration": 0.146276,
     "end_time": "2022-05-20T09:29:45.317317",
     "exception": false,
     "start_time": "2022-05-20T09:29:45.171041",
     "status": "completed"
    },
    "tags": []
   },
   "outputs": [],
   "source": [
    "# convert int to float\n",
    "X_train = X_train.astype('float32')\n",
    "X_test = X_test.astype('float32')\n",
    "\n",
    "# normalise\n",
    "X_train /= 255\n",
    "X_test /= 255"
   ]
  },
  {
   "cell_type": "markdown",
   "id": "a528b003",
   "metadata": {
    "papermill": {
     "duration": 0.027488,
     "end_time": "2022-05-20T09:29:45.372869",
     "exception": false,
     "start_time": "2022-05-20T09:29:45.345381",
     "status": "completed"
    },
    "tags": []
   },
   "source": [
    "Training Model"
   ]
  },
  {
   "cell_type": "code",
   "execution_count": 13,
   "id": "80237cd0",
   "metadata": {
    "execution": {
     "iopub.execute_input": "2022-05-20T09:29:45.430362Z",
     "iopub.status.busy": "2022-05-20T09:29:45.430048Z",
     "iopub.status.idle": "2022-05-20T09:29:45.690032Z",
     "shell.execute_reply": "2022-05-20T09:29:45.688891Z"
    },
    "papermill": {
     "duration": 0.292025,
     "end_time": "2022-05-20T09:29:45.692711",
     "exception": false,
     "start_time": "2022-05-20T09:29:45.400686",
     "status": "completed"
    },
    "tags": []
   },
   "outputs": [
    {
     "name": "stdout",
     "output_type": "stream",
     "text": [
      "Model: \"sequential\"\n",
      "_________________________________________________________________\n",
      "Layer (type)                 Output Shape              Param #   \n",
      "=================================================================\n",
      "conv2d (Conv2D)              (None, 28, 28, 64)        640       \n",
      "_________________________________________________________________\n",
      "batch_normalization (BatchNo (None, 28, 28, 64)        256       \n",
      "_________________________________________________________________\n",
      "conv2d_1 (Conv2D)            (None, 28, 28, 64)        36928     \n",
      "_________________________________________________________________\n",
      "batch_normalization_1 (Batch (None, 28, 28, 64)        256       \n",
      "_________________________________________________________________\n",
      "max_pooling2d (MaxPooling2D) (None, 14, 14, 64)        0         \n",
      "_________________________________________________________________\n",
      "dropout (Dropout)            (None, 14, 14, 64)        0         \n",
      "_________________________________________________________________\n",
      "conv2d_2 (Conv2D)            (None, 14, 14, 32)        18464     \n",
      "_________________________________________________________________\n",
      "batch_normalization_2 (Batch (None, 14, 14, 32)        128       \n",
      "_________________________________________________________________\n",
      "dropout_1 (Dropout)          (None, 14, 14, 32)        0         \n",
      "_________________________________________________________________\n",
      "flatten (Flatten)            (None, 6272)              0         \n",
      "_________________________________________________________________\n",
      "dense (Dense)                (None, 256)               1605888   \n",
      "_________________________________________________________________\n",
      "batch_normalization_3 (Batch (None, 256)               1024      \n",
      "_________________________________________________________________\n",
      "dropout_2 (Dropout)          (None, 256)               0         \n",
      "_________________________________________________________________\n",
      "dense_1 (Dense)              (None, 128)               32896     \n",
      "_________________________________________________________________\n",
      "dense_2 (Dense)              (None, 10)                1290      \n",
      "=================================================================\n",
      "Total params: 1,697,770\n",
      "Trainable params: 1,696,938\n",
      "Non-trainable params: 832\n",
      "_________________________________________________________________\n"
     ]
    },
    {
     "name": "stderr",
     "output_type": "stream",
     "text": [
      "2022-05-20 09:29:45.474174: I tensorflow/core/common_runtime/process_util.cc:146] Creating new thread pool with default inter op setting: 2. Tune using inter_op_parallelism_threads for best performance.\n"
     ]
    }
   ],
   "source": [
    "model = Sequential()\n",
    "\n",
    "model.add(Conv2D(64, kernel_size=(3, 3), padding='same',input_shape=(img_rows, img_cols, 1),activation='relu'))\n",
    "model.add(BatchNormalization())\n",
    "model.add(Conv2D(64, kernel_size=(3, 3), padding = 'same',activation='relu'))\n",
    "model.add(BatchNormalization())\n",
    "model.add(MaxPool2D(pool_size=(2,2)))\n",
    "model.add(Dropout(0.25))\n",
    "\n",
    "\n",
    "model.add(Conv2D(32, kernel_size=(3, 3), padding = 'same',activation='relu'))\n",
    "model.add(BatchNormalization())\n",
    "model.add(Dropout(0.25))\n",
    "\n",
    "model.add(Flatten())\n",
    "\n",
    "model.add(Dense(256,activation='relu'))\n",
    "model.add(BatchNormalization())\n",
    "model.add(Dropout(0.25))\n",
    "model.add(Dense(128,activation='relu'))\n",
    "model.add(Dense(num_classes, activation='softmax'))\n",
    "\n",
    "model.summary()\n",
    "\n",
    "\n",
    "          "
   ]
  },
  {
   "cell_type": "code",
   "execution_count": 14,
   "id": "3788ebe9",
   "metadata": {
    "execution": {
     "iopub.execute_input": "2022-05-20T09:29:45.753743Z",
     "iopub.status.busy": "2022-05-20T09:29:45.753443Z",
     "iopub.status.idle": "2022-05-20T09:29:45.770858Z",
     "shell.execute_reply": "2022-05-20T09:29:45.769858Z"
    },
    "papermill": {
     "duration": 0.051909,
     "end_time": "2022-05-20T09:29:45.773326",
     "exception": false,
     "start_time": "2022-05-20T09:29:45.721417",
     "status": "completed"
    },
    "tags": []
   },
   "outputs": [],
   "source": [
    "lr_reduction = ReduceLROnPlateau(monitor='val_loss',patience=4, verbose=1,  factor=0.4, min_lr=0.0001)\n",
    "\n",
    "model.compile(loss=tf.keras.losses.categorical_crossentropy,\n",
    "             optimizer = 'adam',\n",
    "             metrics = ['accuracy'])\n"
   ]
  },
  {
   "cell_type": "code",
   "execution_count": 15,
   "id": "741cbe25",
   "metadata": {
    "execution": {
     "iopub.execute_input": "2022-05-20T09:29:45.834860Z",
     "iopub.status.busy": "2022-05-20T09:29:45.834504Z",
     "iopub.status.idle": "2022-05-20T10:04:08.796784Z",
     "shell.execute_reply": "2022-05-20T10:04:08.795990Z"
    },
    "papermill": {
     "duration": 2062.996022,
     "end_time": "2022-05-20T10:04:08.798953",
     "exception": false,
     "start_time": "2022-05-20T09:29:45.802931",
     "status": "completed"
    },
    "tags": []
   },
   "outputs": [
    {
     "name": "stderr",
     "output_type": "stream",
     "text": [
      "2022-05-20 09:29:46.109435: I tensorflow/compiler/mlir/mlir_graph_optimization_pass.cc:185] None of the MLIR Optimization Passes are enabled (registered 2)\n"
     ]
    },
    {
     "name": "stdout",
     "output_type": "stream",
     "text": [
      "Epoch 1/20\n",
      "329/329 [==============================] - 103s 309ms/step - loss: 0.1513 - accuracy: 0.9533\n",
      "Epoch 2/20\n",
      "329/329 [==============================] - 102s 310ms/step - loss: 0.0532 - accuracy: 0.9838\n",
      "Epoch 3/20\n",
      "329/329 [==============================] - 102s 310ms/step - loss: 0.0368 - accuracy: 0.9880\n",
      "Epoch 4/20\n",
      "329/329 [==============================] - 102s 310ms/step - loss: 0.0329 - accuracy: 0.9891\n",
      "Epoch 5/20\n",
      "329/329 [==============================] - 103s 312ms/step - loss: 0.0271 - accuracy: 0.9910\n",
      "Epoch 6/20\n",
      "329/329 [==============================] - 103s 312ms/step - loss: 0.0236 - accuracy: 0.9922\n",
      "Epoch 7/20\n",
      "329/329 [==============================] - 103s 312ms/step - loss: 0.0202 - accuracy: 0.9931\n",
      "Epoch 8/20\n",
      "329/329 [==============================] - 103s 314ms/step - loss: 0.0181 - accuracy: 0.9938\n",
      "Epoch 9/20\n",
      "329/329 [==============================] - 104s 316ms/step - loss: 0.0168 - accuracy: 0.9944\n",
      "Epoch 10/20\n",
      "329/329 [==============================] - 104s 314ms/step - loss: 0.0124 - accuracy: 0.9960\n",
      "Epoch 11/20\n",
      "329/329 [==============================] - 104s 315ms/step - loss: 0.0151 - accuracy: 0.9947\n",
      "Epoch 12/20\n",
      "329/329 [==============================] - 103s 314ms/step - loss: 0.0134 - accuracy: 0.9955\n",
      "Epoch 13/20\n",
      "329/329 [==============================] - 104s 317ms/step - loss: 0.0125 - accuracy: 0.9961\n",
      "Epoch 14/20\n",
      "329/329 [==============================] - 104s 316ms/step - loss: 0.0132 - accuracy: 0.9957\n",
      "Epoch 15/20\n",
      "329/329 [==============================] - 103s 312ms/step - loss: 0.0140 - accuracy: 0.9955\n",
      "Epoch 16/20\n",
      "329/329 [==============================] - 103s 313ms/step - loss: 0.0109 - accuracy: 0.9966\n",
      "Epoch 17/20\n",
      "329/329 [==============================] - 104s 315ms/step - loss: 0.0104 - accuracy: 0.9965\n",
      "Epoch 18/20\n",
      "329/329 [==============================] - 104s 315ms/step - loss: 0.0104 - accuracy: 0.9965\n",
      "Epoch 19/20\n",
      "329/329 [==============================] - 103s 314ms/step - loss: 0.0075 - accuracy: 0.9976\n",
      "Epoch 20/20\n",
      "329/329 [==============================] - 103s 313ms/step - loss: 0.0079 - accuracy: 0.9974\n"
     ]
    },
    {
     "data": {
      "text/plain": [
       "<keras.callbacks.History at 0x7f79875f6b50>"
      ]
     },
     "execution_count": 15,
     "metadata": {},
     "output_type": "execute_result"
    }
   ],
   "source": [
    "model.fit(X_train, y_train,\n",
    "          batch_size=batch_size,\n",
    "          epochs=epochs,\n",
    "          verbose=1,callbacks=[lr_reduction])"
   ]
  },
  {
   "cell_type": "markdown",
   "id": "44a3d3f2",
   "metadata": {
    "papermill": {
     "duration": 2.468838,
     "end_time": "2022-05-20T10:04:13.798604",
     "exception": false,
     "start_time": "2022-05-20T10:04:11.329766",
     "status": "completed"
    },
    "tags": []
   },
   "source": [
    "Model Prediction"
   ]
  },
  {
   "cell_type": "code",
   "execution_count": 16,
   "id": "6c286f72",
   "metadata": {
    "execution": {
     "iopub.execute_input": "2022-05-20T10:04:18.844656Z",
     "iopub.status.busy": "2022-05-20T10:04:18.844339Z",
     "iopub.status.idle": "2022-05-20T10:04:39.405005Z",
     "shell.execute_reply": "2022-05-20T10:04:39.404088Z"
    },
    "papermill": {
     "duration": 23.122578,
     "end_time": "2022-05-20T10:04:39.407657",
     "exception": false,
     "start_time": "2022-05-20T10:04:16.285079",
     "status": "completed"
    },
    "tags": []
   },
   "outputs": [],
   "source": [
    "X_test_pred = model.predict(X_test)"
   ]
  },
  {
   "cell_type": "code",
   "execution_count": 17,
   "id": "512bb2cb",
   "metadata": {
    "execution": {
     "iopub.execute_input": "2022-05-20T10:04:44.391633Z",
     "iopub.status.busy": "2022-05-20T10:04:44.391314Z",
     "iopub.status.idle": "2022-05-20T10:04:44.397554Z",
     "shell.execute_reply": "2022-05-20T10:04:44.396436Z"
    },
    "papermill": {
     "duration": 2.452751,
     "end_time": "2022-05-20T10:04:44.399444",
     "exception": false,
     "start_time": "2022-05-20T10:04:41.946693",
     "status": "completed"
    },
    "tags": []
   },
   "outputs": [
    {
     "data": {
      "text/plain": [
       "(28000, 10)"
      ]
     },
     "execution_count": 17,
     "metadata": {},
     "output_type": "execute_result"
    }
   ],
   "source": [
    "X_test_pred.shape"
   ]
  },
  {
   "cell_type": "code",
   "execution_count": 18,
   "id": "3c40d118",
   "metadata": {
    "execution": {
     "iopub.execute_input": "2022-05-20T10:04:49.448062Z",
     "iopub.status.busy": "2022-05-20T10:04:49.447469Z",
     "iopub.status.idle": "2022-05-20T10:04:49.466054Z",
     "shell.execute_reply": "2022-05-20T10:04:49.465179Z"
    },
    "papermill": {
     "duration": 2.584258,
     "end_time": "2022-05-20T10:04:49.468511",
     "exception": false,
     "start_time": "2022-05-20T10:04:46.884253",
     "status": "completed"
    },
    "tags": []
   },
   "outputs": [
    {
     "data": {
      "text/html": [
       "<div>\n",
       "<style scoped>\n",
       "    .dataframe tbody tr th:only-of-type {\n",
       "        vertical-align: middle;\n",
       "    }\n",
       "\n",
       "    .dataframe tbody tr th {\n",
       "        vertical-align: top;\n",
       "    }\n",
       "\n",
       "    .dataframe thead th {\n",
       "        text-align: right;\n",
       "    }\n",
       "</style>\n",
       "<table border=\"1\" class=\"dataframe\">\n",
       "  <thead>\n",
       "    <tr style=\"text-align: right;\">\n",
       "      <th></th>\n",
       "      <th>Label</th>\n",
       "    </tr>\n",
       "    <tr>\n",
       "      <th>ImageId</th>\n",
       "      <th></th>\n",
       "    </tr>\n",
       "  </thead>\n",
       "  <tbody>\n",
       "    <tr>\n",
       "      <th>1</th>\n",
       "      <td>2</td>\n",
       "    </tr>\n",
       "    <tr>\n",
       "      <th>2</th>\n",
       "      <td>0</td>\n",
       "    </tr>\n",
       "    <tr>\n",
       "      <th>3</th>\n",
       "      <td>9</td>\n",
       "    </tr>\n",
       "    <tr>\n",
       "      <th>4</th>\n",
       "      <td>9</td>\n",
       "    </tr>\n",
       "    <tr>\n",
       "      <th>5</th>\n",
       "      <td>3</td>\n",
       "    </tr>\n",
       "  </tbody>\n",
       "</table>\n",
       "</div>"
      ],
      "text/plain": [
       "         Label\n",
       "ImageId       \n",
       "1            2\n",
       "2            0\n",
       "3            9\n",
       "4            9\n",
       "5            3"
      ]
     },
     "execution_count": 18,
     "metadata": {},
     "output_type": "execute_result"
    }
   ],
   "source": [
    "output = pd.DataFrame({\"Label\": X_test_pred.argmax(axis=1)}, index=range(1, 28001))\n",
    "output.index.name = \"ImageId\"\n",
    "output.head()"
   ]
  },
  {
   "cell_type": "code",
   "execution_count": 19,
   "id": "f9b09d75",
   "metadata": {
    "execution": {
     "iopub.execute_input": "2022-05-20T10:04:54.559027Z",
     "iopub.status.busy": "2022-05-20T10:04:54.558738Z",
     "iopub.status.idle": "2022-05-20T10:04:54.625013Z",
     "shell.execute_reply": "2022-05-20T10:04:54.623957Z"
    },
    "papermill": {
     "duration": 2.5727,
     "end_time": "2022-05-20T10:04:54.627579",
     "exception": false,
     "start_time": "2022-05-20T10:04:52.054879",
     "status": "completed"
    },
    "tags": []
   },
   "outputs": [],
   "source": [
    "output.to_csv(\"submission.csv\")"
   ]
  },
  {
   "cell_type": "code",
   "execution_count": null,
   "id": "ec69f15d",
   "metadata": {
    "papermill": {
     "duration": 2.539382,
     "end_time": "2022-05-20T10:04:59.620622",
     "exception": false,
     "start_time": "2022-05-20T10:04:57.081240",
     "status": "completed"
    },
    "tags": []
   },
   "outputs": [],
   "source": []
  }
 ],
 "metadata": {
  "kernelspec": {
   "display_name": "Python 3",
   "language": "python",
   "name": "python3"
  },
  "language_info": {
   "codemirror_mode": {
    "name": "ipython",
    "version": 3
   },
   "file_extension": ".py",
   "mimetype": "text/x-python",
   "name": "python",
   "nbconvert_exporter": "python",
   "pygments_lexer": "ipython3",
   "version": "3.7.12"
  },
  "papermill": {
   "default_parameters": {},
   "duration": 2147.318692,
   "end_time": "2022-05-20T10:05:05.715120",
   "environment_variables": {},
   "exception": null,
   "input_path": "__notebook__.ipynb",
   "output_path": "__notebook__.ipynb",
   "parameters": {},
   "start_time": "2022-05-20T09:29:18.396428",
   "version": "2.3.4"
  }
 },
 "nbformat": 4,
 "nbformat_minor": 5
}
